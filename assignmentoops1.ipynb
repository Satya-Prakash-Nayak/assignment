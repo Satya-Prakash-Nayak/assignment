{
 "cells": [
  {
   "cell_type": "code",
   "execution_count": 1,
   "id": "0f4c5ad4-decc-4c7e-b439-e1015c3cfb15",
   "metadata": {},
   "outputs": [],
   "source": [
    "#Q1. Explain Class and Object with respect to Object-Oriented Programming. Give a suitable example.\n",
    "#Q2. Name the four pillars of OOPs.\n",
    "#Q3. Explain why the __init__() function is used. Give a suitable example.\n",
    "#Q4. Why self is used in OOPs?\n",
    "#Q5. What is inheritance? Give an example for each type of inheritance."
   ]
  },
  {
   "cell_type": "code",
   "execution_count": 11,
   "id": "a26a1a8d-166b-44d8-bdb3-2a8050599574",
   "metadata": {},
   "outputs": [],
   "source": [
    "#1.class is the blueprint or skeleton for creating objects.and objects are reallife entities having definite existance.\n",
    "class student:\n",
    "    def __init__(self,name,subject,mark):\n",
    "        self.name=name\n",
    "        self.subject=subject\n",
    "        self.mark=mark\n",
    "        \n",
    "    def return_details(self):\n",
    "        return self.name,self.subject,self.mark"
   ]
  },
  {
   "cell_type": "code",
   "execution_count": 13,
   "id": "6e552eb5-bd42-4487-beab-6a37490ee9a9",
   "metadata": {},
   "outputs": [],
   "source": [
    "a=student(\"satya\",\"physics\",90)"
   ]
  },
  {
   "cell_type": "code",
   "execution_count": 14,
   "id": "c6f359e3-6c1e-4864-9562-6b0102197054",
   "metadata": {},
   "outputs": [
    {
     "data": {
      "text/plain": [
       "('satya', 'physics', 90)"
      ]
     },
     "execution_count": 14,
     "metadata": {},
     "output_type": "execute_result"
    }
   ],
   "source": [
    "a.return_details()"
   ]
  },
  {
   "cell_type": "code",
   "execution_count": 15,
   "id": "f25b6bde-cdbd-4b96-8c50-22ee182be341",
   "metadata": {},
   "outputs": [],
   "source": [
    "#2.the four pillars of oops is abstraction,encapsulatiion,polymorphism,inheritance"
   ]
  },
  {
   "cell_type": "code",
   "execution_count": 23,
   "id": "710fbb01-a832-4349-a3ad-c258f3cccc91",
   "metadata": {},
   "outputs": [],
   "source": [
    "#3.__init__ is also known as constructor in python. it is used to take arguments. when a object is created __init__ function is called itself\n",
    "class welcome:\n",
    "    def __init__(self,name):\n",
    "        self.name=name\n",
    "        print(\"hey\", self.name,\"....welcome to our class room\")\n",
    "\n",
    "        \n"
   ]
  },
  {
   "cell_type": "code",
   "execution_count": 26,
   "id": "bb641c4a-b243-4b11-899f-e3610138da72",
   "metadata": {},
   "outputs": [
    {
     "name": "stdout",
     "output_type": "stream",
     "text": [
      "hey Mandira ....welcome to our class room\n"
     ]
    }
   ],
   "source": [
    "a=welcome(\"Mandira\")"
   ]
  },
  {
   "cell_type": "code",
   "execution_count": 27,
   "id": "48674992-ffdf-48b6-b12f-431e8adebc9a",
   "metadata": {},
   "outputs": [
    {
     "name": "stdout",
     "output_type": "stream",
     "text": [
      "hey abhi ....welcome to our class room\n"
     ]
    }
   ],
   "source": [
    "b=welcome(\"abhi\")"
   ]
  },
  {
   "cell_type": "code",
   "execution_count": 28,
   "id": "2a13b7fa-0848-49d2-8c7f-4fd67b62e32f",
   "metadata": {},
   "outputs": [],
   "source": [
    "#4. self is not a predefined keyword. we use the word to access the instances of that class"
   ]
  },
  {
   "cell_type": "code",
   "execution_count": null,
   "id": "665f4f1d-e755-4fe5-b561-cfcf875efbc2",
   "metadata": {},
   "outputs": [],
   "source": [
    "#5. Inheritance is the mechanism in which one class acquires the property of another class.\n",
    "#there are five types of inheritance in oops\n",
    "#i. single inheritance ii. multiple inheritance iii multilevel iv hierarchical v "
   ]
  }
 ],
 "metadata": {
  "kernelspec": {
   "display_name": "Python 3 (ipykernel)",
   "language": "python",
   "name": "python3"
  },
  "language_info": {
   "codemirror_mode": {
    "name": "ipython",
    "version": 3
   },
   "file_extension": ".py",
   "mimetype": "text/x-python",
   "name": "python",
   "nbconvert_exporter": "python",
   "pygments_lexer": "ipython3",
   "version": "3.10.8"
  }
 },
 "nbformat": 4,
 "nbformat_minor": 5
}
