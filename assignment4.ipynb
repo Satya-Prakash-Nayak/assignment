{
 "cells": [
  {
   "cell_type": "code",
   "execution_count": 1,
   "id": "1132ea7e-19b6-45aa-a885-0b0082b3d0f6",
   "metadata": {},
   "outputs": [],
   "source": [
    "#1. statistics is the science of collection,organization,presentation and analysis of data.\n"
   ]
  },
  {
   "cell_type": "code",
   "execution_count": 2,
   "id": "995fdccd-c969-4e31-a083-9c5dc9214438",
   "metadata": {},
   "outputs": [],
   "source": [
    "#2. there are two types of statistics. one is descriptive statistics,another is inferential statistics.\n",
    "#descriptive statistics consists of organising and summerizng data.\n",
    "#ex- measure of central tendency\n",
    "#inferential statistics consisits of using data you have and to form conclusion.\n",
    "#ex- t-test,z-test"
   ]
  },
  {
   "cell_type": "code",
   "execution_count": 3,
   "id": "2aa45dcf-b93b-411a-9fcc-fef29fefad77",
   "metadata": {},
   "outputs": [],
   "source": [
    "#3.there are two different type of data.\n",
    "#1.quantitative 2.qualitative\n",
    "#quantitative is divided into two types\n",
    "#1.discreate 2.continuous\n",
    "#-> discreate data is a whole number.\n",
    "#-> continuous data is a collection of any value\n",
    "#e.g- weight,height\n",
    "#qualitative is also divided into two types.\n",
    "#1.nominal 2.ordinal\n",
    "#nominal data-> e.g gender,pincode,\n",
    "#ordinal data-> customer feedback\n",
    "#,good,bad etc.#"
   ]
  },
  {
   "cell_type": "code",
   "execution_count": 4,
   "id": "439205c2-85a0-46c2-b782-d1255bd65152",
   "metadata": {},
   "outputs": [],
   "source": [
    "#4. i) grading in exam A+,A,B,B+ -> qualitative data\n",
    "#   ii) colour of mangos :- qualitative data\n",
    "#   iii) height data of a class :- quantitative data\n",
    "#    iv) number of mangoes exported by the farm :_quantitative data"
   ]
  },
  {
   "cell_type": "code",
   "execution_count": 5,
   "id": "65962f78-26bd-4449-bd05-1400f17fe552",
   "metadata": {},
   "outputs": [],
   "source": [
    "#5. there are four levels of measurement \n",
    "#1. nominal scale:- qualitative and categorical, and order does not matter.\n",
    "#e.g- gender,colour,habits\n",
    "#2.ordinal scale:- ranking is important, difference can not be measured.\n",
    "#e.g- good, bad,best\n",
    "#3. interval scale:- having no 0 starting point. the ordewr matters,and difference can be measured.\n",
    "#e.g- \n",
    "#4. ratio scale:- having a 0 starting point. difference can be measured, order is important.\n",
    "#e.g _ height of students."
   ]
  },
  {
   "cell_type": "code",
   "execution_count": 1,
   "id": "a423a4c2-efbb-4681-ada0-05c021aeec07",
   "metadata": {},
   "outputs": [],
   "source": [
    "#7. in ordinal data difference can not be measured.and ranking is impoortant.but in nominal data order does not matter and it is categorical."
   ]
  },
  {
   "cell_type": "code",
   "execution_count": 2,
   "id": "9648fbfd-3e87-4a94-bb86-49f2dc01993f",
   "metadata": {},
   "outputs": [],
   "source": [
    "#8. A histogram"
   ]
  },
  {
   "cell_type": "code",
   "execution_count": null,
   "id": "8d0d0b8f-73cb-4625-ada5-7a51d35354fa",
   "metadata": {},
   "outputs": [],
   "source": [
    "#9. descriptive statistics consist of organizing and summerising the data and inferential statistics consists of using data you have measured to form conclusion."
   ]
  }
 ],
 "metadata": {
  "kernelspec": {
   "display_name": "Python 3 (ipykernel)",
   "language": "python",
   "name": "python3"
  },
  "language_info": {
   "codemirror_mode": {
    "name": "ipython",
    "version": 3
   },
   "file_extension": ".py",
   "mimetype": "text/x-python",
   "name": "python",
   "nbconvert_exporter": "python",
   "pygments_lexer": "ipython3",
   "version": "3.10.8"
  }
 },
 "nbformat": 4,
 "nbformat_minor": 5
}
